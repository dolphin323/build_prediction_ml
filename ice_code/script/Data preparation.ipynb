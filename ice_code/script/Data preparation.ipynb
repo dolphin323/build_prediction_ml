{
 "cells": [
  {
   "cell_type": "code",
   "execution_count": 1,
   "metadata": {
    "ExecuteTime": {
     "end_time": "2022-09-15T06:26:33.075349Z",
     "start_time": "2022-09-15T06:26:16.768372Z"
    }
   },
   "outputs": [
    {
     "name": "stdout",
     "output_type": "stream",
     "text": [
      "             id                                  change_id  \\\n",
      "735913  1104031  I4efe55a84645a30f66f413cd614e5387582577aa   \n",
      "735914  1104032  I4efe55a84645a30f66f413cd614e5387582577aa   \n",
      "293385   661203  I32e56a9b18b5feeb41b583081e95421cf1984522   \n",
      "293386   661204  I32e56a9b18b5feeb41b583081e95421cf1984522   \n",
      "293387   661205  I32e56a9b18b5feeb41b583081e95421cf1984522   \n",
      "\n",
      "                                      message_id  author  real_author  \\\n",
      "735913  fd006a75943b16c9ae1bddc497adb04f5fefd2fa    1782         1782   \n",
      "735914  2611482eaf227257feec82a61631547293d82aa2    1782         1782   \n",
      "293385  a283141cc95dfd068c13845eeb579a6b0bc422ec    1176         1176   \n",
      "293386  050d7f37c0f9f6d87a15e538967729c38a387006    1176         1176   \n",
      "293387  b475141a088f5d838311aca15e4eb50a50ad1f45    1176         1176   \n",
      "\n",
      "                           created_at                message  revision_number  \\\n",
      "735913  2012-08-02 19:09:55.000000000  Uploaded patch set 2.                2   \n",
      "735914  2012-08-02 19:11:14.000000000  Uploaded patch set 3.                3   \n",
      "293385  2012-08-07 13:04:28.000000000  Uploaded patch set 2.                2   \n",
      "293386  2012-09-17 16:18:50.000000000  Uploaded patch set 3.                3   \n",
      "293387  2012-09-19 12:10:44.000000000  Uploaded patch set 4.                4   \n",
      "\n",
      "        is_bot          username  \n",
      "735913   False  kravchenko-pavel  \n",
      "735914   False  kravchenko-pavel  \n",
      "293385   False              jsuh  \n",
      "293386   False              jsuh  \n",
      "293387   False              jsuh  \n"
     ]
    }
   ],
   "source": [
    "import pandas as pd\n",
    "\n",
    "from tqdm.notebook import tqdm\n",
    "df = pd.read_csv('../dataset/raw_dataset.csv')\n",
    "df.sort_values(by=['created_at'], inplace=True)\n",
    "print(df.head())\n",
    "\n",
    "tqdm.pandas()"
   ]
  },
  {
   "cell_type": "code",
   "execution_count": 2,
   "metadata": {
    "ExecuteTime": {
     "end_time": "2022-09-15T06:26:41.962072Z",
     "start_time": "2022-09-15T06:26:33.077262Z"
    }
   },
   "outputs": [
    {
     "data": {
      "application/vnd.jupyter.widget-view+json": {
       "model_id": "488408dd19534fb69264b5b7733e0128",
       "version_major": 2,
       "version_minor": 0
      },
      "text/plain": [
       "  0%|          | 0/66932 [00:00<?, ?it/s]"
      ]
     },
     "metadata": {},
     "output_type": "display_data"
    },
    {
     "name": "stdout",
     "output_type": "stream",
     "text": [
      "# of code reviews: 66932\n",
      "# of patch sets: 267239\n",
      "# of patch sets [mean]: 4\n",
      "# of patch sets [median]: 2.0\n",
      "# of patch sets [max]: 948\n"
     ]
    }
   ],
   "source": [
    "# table 1 statistic of dataset\n",
    "\n",
    "import statistics\n",
    "patch_set_per_cr = list()\n",
    "for change_id,group in tqdm(df.groupby(['change_id'])): \n",
    "    patch_set_per_cr.append(len(group['revision_number'].unique()))\n",
    "\n",
    "print(f\"# of code reviews: {df['change_id'].unique().shape[0]}\")\n",
    "print(f\"# of patch sets: {df[['change_id','revision_number']].drop_duplicates().shape[0]}\")\n",
    "print(f\"# of patch sets [mean]: {round(statistics.mean(patch_set_per_cr))}\")\n",
    "print(f\"# of patch sets [median]: {statistics.median(patch_set_per_cr)}\")\n",
    "print(f\"# of patch sets [max]: {max(patch_set_per_cr)}\")\n",
    "\n"
   ]
  },
  {
   "cell_type": "code",
   "execution_count": null,
   "metadata": {},
   "outputs": [],
   "source": []
  }
 ],
 "metadata": {
  "kernelspec": {
   "display_name": "Python 3",
   "language": "python",
   "name": "python3"
  },
  "language_info": {
   "codemirror_mode": {
    "name": "ipython",
    "version": 3
   },
   "file_extension": ".py",
   "mimetype": "text/x-python",
   "name": "python",
   "nbconvert_exporter": "python",
   "pygments_lexer": "ipython3",
   "version": "3.8.8"
  }
 },
 "nbformat": 4,
 "nbformat_minor": 2
}
