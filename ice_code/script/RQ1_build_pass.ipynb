{
 "cells": [
  {
   "cell_type": "code",
   "execution_count": 1,
   "metadata": {
    "ExecuteTime": {
     "end_time": "2023-02-24T16:28:55.733427Z",
     "start_time": "2023-02-24T16:28:33.308159Z"
    }
   },
   "outputs": [
    {
     "name": "stdout",
     "output_type": "stream",
     "text": [
      "             id                                  change_id  \\\n",
      "735913  1104031  I4efe55a84645a30f66f413cd614e5387582577aa   \n",
      "735914  1104032  I4efe55a84645a30f66f413cd614e5387582577aa   \n",
      "293385   661203  I32e56a9b18b5feeb41b583081e95421cf1984522   \n",
      "293386   661204  I32e56a9b18b5feeb41b583081e95421cf1984522   \n",
      "293387   661205  I32e56a9b18b5feeb41b583081e95421cf1984522   \n",
      "\n",
      "                                      message_id  author  real_author  \\\n",
      "735913  fd006a75943b16c9ae1bddc497adb04f5fefd2fa    1782         1782   \n",
      "735914  2611482eaf227257feec82a61631547293d82aa2    1782         1782   \n",
      "293385  a283141cc95dfd068c13845eeb579a6b0bc422ec    1176         1176   \n",
      "293386  050d7f37c0f9f6d87a15e538967729c38a387006    1176         1176   \n",
      "293387  b475141a088f5d838311aca15e4eb50a50ad1f45    1176         1176   \n",
      "\n",
      "                           created_at                message  revision_number  \\\n",
      "735913  2012-08-02 19:09:55.000000000  Uploaded patch set 2.                2   \n",
      "735914  2012-08-02 19:11:14.000000000  Uploaded patch set 3.                3   \n",
      "293385  2012-08-07 13:04:28.000000000  Uploaded patch set 2.                2   \n",
      "293386  2012-09-17 16:18:50.000000000  Uploaded patch set 3.                3   \n",
      "293387  2012-09-19 12:10:44.000000000  Uploaded patch set 4.                4   \n",
      "\n",
      "        is_bot          username  \n",
      "735913   False  kravchenko-pavel  \n",
      "735914   False  kravchenko-pavel  \n",
      "293385   False              jsuh  \n",
      "293386   False              jsuh  \n",
      "293387   False              jsuh  \n"
     ]
    }
   ],
   "source": [
    "import pandas as pd\n",
    "\n",
    "from tqdm.notebook import tqdm\n",
    "df = pd.read_csv('dataset/raw_dataset.csv')\n",
    "df.sort_values(by=['created_at'], inplace=True)\n",
    "print(df.head())\n",
    "\n",
    "tqdm.pandas()"
   ]
  },
  {
   "cell_type": "code",
   "execution_count": 2,
   "metadata": {
    "ExecuteTime": {
     "end_time": "2023-02-24T16:31:38.278354Z",
     "start_time": "2023-02-24T16:28:55.738102Z"
    }
   },
   "outputs": [
    {
     "data": {
      "application/vnd.jupyter.widget-view+json": {
       "model_id": "3207682432bb4a27b201507ae6089186",
       "version_major": 2,
       "version_minor": 0
      },
      "text/plain": [
       "  0%|          | 0/66932 [00:00<?, ?it/s]"
      ]
     },
     "metadata": {},
     "output_type": "display_data"
    },
    {
     "name": "stdout",
     "output_type": "stream",
     "text": [
      "Code Reviews # With Passing CI jobs: 43243, Invoked Rechecks: 1003 (2)%\n"
     ]
    }
   ],
   "source": [
    "# table II number of recheck after CI fails\n",
    "\n",
    "# at the code review level\n",
    "\n",
    "total_build_pass = 0\n",
    "total_recheck = 0\n",
    "\n",
    "for change_id, group in tqdm(df.groupby(['change_id'])):\n",
    "    build_fail = False\n",
    "    recheck = False\n",
    "    build_pass = False\n",
    "    recheck_after_build_fail = False\n",
    "    \n",
    "    for ind, col in group.iterrows():\n",
    "        \n",
    "        if 'build failed' in col['message'].lower() and col['is_bot']:\n",
    "            build_fail = True\n",
    "        \n",
    "        if 'build succ' in col['message'].lower() and col['is_bot']:\n",
    "            build_pass = True\n",
    "        \n",
    "        if not build_pass:\n",
    "            continue\n",
    "            \n",
    "        if 'recheck' in col['message'].lower() and not col['is_bot']:\n",
    "            recheck = True\n",
    "            \n",
    "            if build_fail:\n",
    "                recheck_after_build_fail = True\n",
    "                \n",
    "    if recheck_after_build_fail:\n",
    "        continue\n",
    "            \n",
    "    if build_pass:\n",
    "        total_build_pass += 1\n",
    "    \n",
    "    if recheck:\n",
    "        total_recheck += 1\n",
    "        \n",
    "print(f\"Code Reviews # With Passing CI jobs: {total_build_pass}, Invoked Rechecks: {total_recheck} ({round(total_recheck * 100 / total_build_pass)})%\")\n",
    "      "
   ]
  },
  {
   "cell_type": "code",
   "execution_count": 3,
   "metadata": {
    "ExecuteTime": {
     "end_time": "2023-02-24T16:35:07.050305Z",
     "start_time": "2023-02-24T16:31:38.281410Z"
    }
   },
   "outputs": [
    {
     "data": {
      "application/vnd.jupyter.widget-view+json": {
       "model_id": "53e790bdbc954fb6b8f83eddc6267dff",
       "version_major": 2,
       "version_minor": 0
      },
      "text/plain": [
       "  0%|          | 0/267239 [00:00<?, ?it/s]"
      ]
     },
     "metadata": {},
     "output_type": "display_data"
    },
    {
     "name": "stdout",
     "output_type": "stream",
     "text": [
      "Patch sets # With Failing CI jobs: 80428, Invoked Rechecks: 2307 (3)%\n"
     ]
    }
   ],
   "source": [
    "# table II number of recheck after CI fails at the patch set level\n",
    "\n",
    "# Fig 2 Proportion of patch sets and number of invoked rechecks\n",
    "# count how many recheck after build fail\n",
    "\n",
    "## calculate number of them that shown gate jobs\n",
    "\n",
    "total_build_pass = 0\n",
    "total_recheck = 0\n",
    "total_gate_job = 0\n",
    "total_gate_job_after_recheck = 0\n",
    "recheck_list = []\n",
    "other_count = 0\n",
    "gate_job_recheck_list = []\n",
    "pass_build_recheck_list = []\n",
    "\n",
    "for change_id, group in tqdm(df.groupby(['change_id','revision_number'])):\n",
    "    build_fail = False\n",
    "    recheck_count = 0\n",
    "    build_pass = False\n",
    "    gate_job = False\n",
    "\n",
    "    for ind, col in group.iterrows():\n",
    "        \n",
    "        if 'build failed' in col['message'].lower() and col['is_bot']:\n",
    "            build_fail = True\n",
    "        \n",
    "        if 'build succ' in col['message'].lower() and col['is_bot']:\n",
    "            build_pass = True\n",
    "        \n",
    "        if 'gate job' in col['message'].lower() and col['is_bot']:\n",
    "            gate_job = True\n",
    "        \n",
    "        if not build_pass:\n",
    "            continue\n",
    "            \n",
    "        if 'recheck' in col['message'].lower() and not col['is_bot']:\n",
    "            recheck_count += 1\n",
    "\n",
    "    if not build_fail and not build_pass:\n",
    "        other_count += 1\n",
    "                \n",
    "    if build_fail:\n",
    "        continue\n",
    "                    \n",
    "    if build_pass:\n",
    "        total_build_pass += 1\n",
    "\n",
    "    \n",
    "    if recheck_count:\n",
    "        total_recheck += 1\n",
    "        recheck_list.append(recheck_count)\n",
    "        pass_build_recheck_list.append(change_id)\n",
    "        \n",
    "        if gate_job:\n",
    "            total_gate_job += 1\n",
    "            gate_job_recheck_list.append(change_id)\n",
    "            \n",
    "print(f\"Patch sets # With Failing CI jobs: {total_build_pass}, Invoked Rechecks: {total_recheck} ({round(total_recheck * 100 / total_build_pass)})%\")\n",
    "      "
   ]
  },
  {
   "cell_type": "code",
   "execution_count": 4,
   "metadata": {
    "ExecuteTime": {
     "end_time": "2023-02-24T16:35:07.081069Z",
     "start_time": "2023-02-24T16:35:07.061804Z"
    }
   },
   "outputs": [
    {
     "name": "stdout",
     "output_type": "stream",
     "text": [
      "690\n"
     ]
    }
   ],
   "source": [
    "## calculate  number of them that shown gate jobs\n",
    "\n",
    "print(total_gate_job)"
   ]
  },
  {
   "cell_type": "code",
   "execution_count": 8,
   "metadata": {
    "ExecuteTime": {
     "end_time": "2023-02-24T16:39:05.566195Z",
     "start_time": "2023-02-24T16:38:01.691983Z"
    }
   },
   "outputs": [
    {
     "data": {
      "application/vnd.jupyter.widget-view+json": {
       "model_id": "f5808d5d237a4b1dad978b600c159c54",
       "version_major": 2,
       "version_minor": 0
      },
      "text/plain": [
       "  0%|          | 0/267239 [00:00<?, ?it/s]"
      ]
     },
     "metadata": {},
     "output_type": "display_data"
    },
    {
     "name": "stdout",
     "output_type": "stream",
     "text": [
      "recheck failure vote with non voting: 2307, Invoked Rechecks: 1279 (55)%\n"
     ]
    }
   ],
   "source": [
    "import re\n",
    "# count failure non voting\n",
    "failure_count = 0\n",
    "for change_id, group in tqdm(df.groupby(['change_id','revision_number'])):\n",
    "    \n",
    "    failure = False\n",
    "    \n",
    "    if change_id not in pass_build_recheck_list:\n",
    "        continue\n",
    "    \n",
    "    for ind, col in group.iterrows():\n",
    "        if col['is_bot']:\n",
    "            try:\n",
    "                bot = re.findall(r'(failure in(?: \\w+?)*s \\(non\\-voting\\))',col['message'],re.IGNORECASE)\n",
    "                for b in bot:\n",
    "                    failure = True\n",
    "                \n",
    "            except:\n",
    "                pass\n",
    "\n",
    "    if failure:\n",
    "        failure_count += 1\n",
    "        \n",
    "print(f\"recheck failure vote with non voting: {total_recheck}, Invoked Rechecks: {failure_count} ({round(failure_count * 100 / total_recheck)})%\")\n"
   ]
  },
  {
   "cell_type": "code",
   "execution_count": 9,
   "metadata": {
    "ExecuteTime": {
     "end_time": "2023-02-24T16:39:08.401509Z",
     "start_time": "2023-02-24T16:39:08.398234Z"
    }
   },
   "outputs": [
    {
     "name": "stdout",
     "output_type": "stream",
     "text": [
      "1279\n"
     ]
    }
   ],
   "source": [
    "print(failure_count)"
   ]
  },
  {
   "cell_type": "code",
   "execution_count": 12,
   "metadata": {
    "ExecuteTime": {
     "end_time": "2023-02-24T16:52:14.112112Z",
     "start_time": "2023-02-24T16:51:54.132364Z"
    }
   },
   "outputs": [
    {
     "data": {
      "application/vnd.jupyter.widget-view+json": {
       "model_id": "21759e51a5594ed5a861f5accf9e139a",
       "version_major": 2,
       "version_minor": 0
      },
      "text/plain": [
       "  0%|          | 0/267239 [00:00<?, ?it/s]"
      ]
     },
     "metadata": {},
     "output_type": "display_data"
    },
    {
     "name": "stdout",
     "output_type": "stream",
     "text": [
      "('I00d6f13dd991074e4f45ada4d7cf4ccc0edbc7e1', 12)\n",
      "('I00dda298f499b241a224c19657ebbb8a9015eb4d', 2)\n",
      "('I014cf0f9c6c19e900d3c210a7f52b4e941bc46e7', 13)\n",
      "('I015d823f9574002bf5ad118668d50e09ce0ba465', 4)\n",
      "('I01635a4f492adc0f7d14747c1037a05fa7f22fd3', 4)\n",
      "('I019e88fabd1d386c0d6395a7b1969315873485fd', 15)\n",
      "('I01e883803d00bf30e63b2e84526b7aa625b9c74f', 1)\n",
      "('I01f20f275bbd5451ace5c1e6f41ab38d488dae4e', 1)\n",
      "('I020b78cc3ce035ff3466774d5d08198d89271117', 7)\n",
      "('I02f78ee44492ea36a2ebb66211fa488034e74b5e', 1)\n",
      "('I02f78ee44492ea36a2ebb66211fa488034e74b5e', 3)\n",
      "('I02f78ee44492ea36a2ebb66211fa488034e74b5e', 5)\n",
      "('I0330c09d72c20d63d08770b52d3071512a418260', 3)\n",
      "('I036a5ceabe88dcc1fd85c09472481de7d02edf5f', 2)\n",
      "('I038b49c8de0af65f38b62950b27b31d95a6301a9', 7)\n",
      "('I038eeaf2508926f18b6053db0082a8aa3f3e20c6', 9)\n",
      "('I055f102ee8cd726ce6e25ce868396f62d991a459', 1)\n",
      "('I0589c2500f0ba7f13830921f63f77e2beefaebb4', 1)\n",
      "('I05ce933e5bd01bf59a52e7d49facce26efa693aa', 6)\n",
      "('I05e834b4c88250e86746ce5fe8f85b0ea9d4d011', 1)\n",
      "('I061aa6f8cffb1ae6bfe2dab4e19fce7f080d2f6e', 4)\n",
      "('I0636745835a6f4b0e5fae6e01b6ee754e1d9176d', 6)\n",
      "('I06b3848451541f8f2d98748c06c556b9dc1104c6', 1)\n",
      "('I071bd473617691ee72e29547e320dd8d9781ee75', 3)\n",
      "('I074c1ff3f1232a899c101f2856dff4a881a6fe77', 1)\n",
      "('I0783342022112ebacdb7f068f5d9b0bb8d62d12d', 2)\n",
      "('I08a655a359ff9cfa79043f2166dca59199c7d67f', 6)\n",
      "('I08ad7d55d0c88a9df51ac9d9716ae377a9a5d707', 1)\n",
      "('I090dd235dd7911aa9bb0eb13d8e65b501dc206fe', 2)\n",
      "('I0944224a65ede02154dc555d2a11f52f1507217c', 1)\n",
      "('I09c79cca1560ad091a8b09a4ad65f052c6bf808b', 1)\n",
      "('I09f96522cddf3a77dae73daca4557877eda5df50', 1)\n",
      "('I0a250cc8a75e622f07ba9931fae0503e1421bc70', 1)\n",
      "('I0a2ef52b13151a39e678e9a3e6f75babb47298d0', 9)\n",
      "('I0a35fb8e5686c005a02268fdd512885b6f052447', 5)\n",
      "('I0a35fb8e5686c005a02268fdd512885b6f052447', 6)\n",
      "('I0a43b1b9d94925f3b6e7266434fb698e665dd42c', 10)\n",
      "('I0ae2dbf66241207a425bf7d0fc02a4d2e2dea409', 76)\n",
      "('I0b1bdd348e1f424afda9aa2183c0e876afd12968', 1)\n",
      "('I0b3457232ee86576022cff64eb2e227ff9bbf0aa', 15)\n",
      "('I0b602e01c10ae16055c3249e4022439289b4fb8e', 1)\n",
      "('I0bb7dfc7c15d77287c05a8542347e19fc269aba4', 8)\n",
      "('I0bb7dfc7c15d77287c05a8542347e19fc269aba4', 9)\n",
      "('I0bbd0812f4f2132193724feb9b18910389dc85f4', 1)\n",
      "('I0c28f7436a7a8797b6b226748f8b5de8f7636b7e', 9)\n",
      "('I0c3c7306c2edb2913cada973281eb97db5505f81', 11)\n",
      "('I0c8db2efec6098c017aad2f6588938bc548db139', 2)\n",
      "('I0c92b3c37ac7b2e7c48c1033c074baef48f752a7', 6)\n",
      "('I0cb8bd55f75da37a12468aac9403c5db8f652035', 77)\n",
      "('I0dd0834ab5872006a1402b2ebf7fd09d8f62fddc', 2)\n",
      "('I0e2f94d302b3ec3a22ee5853d529efb6b423bdaa', 9)\n",
      "('I0e372dda3a0f0f74d9e343c439514317dceb4d24', 9)\n",
      "('I0e6cf1ca0f4b07c080ff5a7b221dabedfd8bf6cf', 6)\n",
      "('I0e8299f743dbc0262c36600968a2f542843e02f9', 1)\n",
      "('I0e926986e0446d5f67b7f1ddc4bf051e7513d4ac', 3)\n",
      "('I0e9a804ae7717252175f7fe409223f5eb8f50013', 7)\n",
      "('I0f18994344f6a16f7e0942928093beda31dc9e0a', 1)\n",
      "('I0f32de4ea615c89a7500a8098c44ef543fe45a02', 6)\n",
      "('I0f6bdb58e6d0abadf59155f01c9340110e9be9ce', 2)\n",
      "('I0f7b8b4860be4f00e9fe24710143a184b6a3134d', 1)\n",
      "('I0f982d71fc4a5d33ed66cb34d7388f3c4655e3ef', 7)\n",
      "('I0fc5ebc9eeae8feb644adaa96537e69521acec78', 6)\n",
      "('I0fc5ebc9eeae8feb644adaa96537e69521acec78', 8)\n",
      "('I0fdac5d6b7108a7bdd7ef271843b1349979ae8d8', 1)\n",
      "('I0fdac5d6b7108a7bdd7ef271843b1349979ae8d8', 2)\n",
      "('I10131e19f8338712cc5a74c72ab62cb5ec74784e', 12)\n",
      "('I1030db9143273a7f3bc4d9f097311d2697603cfa', 3)\n",
      "('I1176280b5d30b551774cdbe7b5ec65afc7978f6b', 1)\n",
      "('I118771150aa8bfdad735dbbe7a0640bb39c021f6', 2)\n",
      "('I11b17bcf8c206afaed51bd27090cdf3108f7aee2', 1)\n",
      "('I11c1fe568d34ede294d7949a99a1eed9204a4ee0', 4)\n",
      "('I11ca1b3e1687ce5aea7b04325c125fd15661e17b', 2)\n",
      "('I1352c0175791bd8abf58ce3ef54eb98e11965438', 1)\n",
      "('I13f07a2d45bf5b8584adc8aa079bae640cb5c470', 1)\n",
      "('I13f9e8e8d9b0c0f5f6e4b615daa396177b1d053f', 7)\n",
      "('I145388c96c65af3247eea0d457615f6361b6d98d', 1)\n",
      "('I14690278c1a8f85287d7d5af34420e96db2cbd97', 1)\n",
      "('I146c0cf847c0c355af4351f89c2ed530990497dc', 3)\n",
      "('I14729b579646aab9acecc8a953513b87b16363d2', 2)\n",
      "('I14f1062bad9b7d5c89bcaa96aa158d512594f350', 1)\n",
      "('I14f1062bad9b7d5c89bcaa96aa158d512594f350', 2)\n",
      "('I14f1062bad9b7d5c89bcaa96aa158d512594f350', 4)\n",
      "('I14f1062bad9b7d5c89bcaa96aa158d512594f350', 6)\n",
      "('I14f1062bad9b7d5c89bcaa96aa158d512594f350', 7)\n",
      "('I15364d37fb7426f4eec00ca4eaf99bec50e964b6', 6)\n",
      "('I155711e8b5fbd00833d8b59abf963a37dfb82b34', 1)\n",
      "('I16136f4ac2a787e8bcf90eb0675294300ac088f0', 7)\n",
      "('I165c38ade788c1069b1fdb3f01bb887a2ece60fe', 1)\n",
      "('I16e4c40208912691e3015bfe2065ea0ce2358edb', 2)\n",
      "('I1711653355ae26a3fff3bb6de3c6fca7113cdd01', 44)\n",
      "('I1711653355ae26a3fff3bb6de3c6fca7113cdd01', 48)\n",
      "('I17904c996e1357f7292d25aab4d448edb052f44c', 4)\n",
      "('I17b44183c00a23081f00a6932d519c2ed7806385', 2)\n",
      "('I18404d8fa79566de1bee1ac5760b8a440e885df8', 6)\n",
      "('I18b0477a775de942f940e9c0984559089dca1cdb', 1)\n",
      "('I192a67585d81cc76980139ee8f8f046d4029ecfe', 4)\n",
      "('I195e8e254b7cc6b3e04e45d67e0a0e3797183816', 13)\n",
      "('I195e8e254b7cc6b3e04e45d67e0a0e3797183816', 20)\n",
      "('I19d467adbc1dab6709ce9667b18f1bb6dff12c1e', 5)\n",
      "('I1a0afa0e8740c229db77c18b932e316196880de5', 5)\n",
      "('I1a0afa0e8740c229db77c18b932e316196880de5', 44)\n",
      "('I1a66c3080544e0af8ba02c530351ab4b2d7f9bbd', 5)\n",
      "('I1acdff5f2389ae88872ed198a2b3cee9dc61f705', 1)\n",
      "('I1ad48ade3984e455d07be3a8b8ee3d9b25b449a2', 2)\n",
      "('I1ae76e026fbb1e95c15d00f983b4eb2468242d76', 2)\n",
      "('I1b185ac76104a033c706bcc2cf52578f25919c16', 1)\n",
      "('I1ba00850bdd7c015c5f462f1d75a5b833a5e9af9', 30)\n",
      "('I1bb61969a5adf37b07e43701d9a867b409a5ccf0', 16)\n",
      "('I1d2c3c2b4fe2a6eda64895bf73a6f57175c192b6', 1)\n",
      "('I1d63dd771e4f44ac131c37563bff42b970c44a09', 6)\n",
      "('I1e10ececde84b7d8cf9d2022cd547af616730da8', 6)\n",
      "('I1f153c553cd2dfa846ce80c166e2a35acd9169a3', 1)\n",
      "('I1f1c9f676883bc64f634c113fe6caa2d0f62557d', 3)\n",
      "('I1f875ac74f814512b02b0d3225ea8ed9b20ccf43', 1)\n",
      "('I1fa4a223bf45ca668824951ac55eb706718de4c3', 2)\n",
      "('I1ff753517b387027f0cc052b18e8822b638cfb4d', 10)\n",
      "('I21011a3708f17ee61afd0034d90d75e8dc885575', 8)\n",
      "('I21a659babaf9250b357a13e0e0a8e6aa81c92de4', 1)\n",
      "('I221e19a9d60e08d49fca34496d9fd690026a7ab1', 6)\n",
      "('I2268060680a8552d6a9ecc5506bb6d712ea03740', 5)\n",
      "('I2274c212f14aece27ff49bfc7900d9b1a0fd01d0', 7)\n",
      "('I2467359cee613fa21cc0433e12652bd6468be380', 2)\n",
      "('I25011547feea8f846f670977651e2ca3fc26002f', 18)\n",
      "('I2560ad45374cd97b3a7631e8f739f538b57d223d', 4)\n",
      "('I258127fdcd011ccec721d5ff62eb7f128f130336', 1)\n",
      "('I2593656b7e5300a12773c920c2c8614bc3541567', 3)\n",
      "('I25acba2a57bc183acb60284b89ddd7c851eae6ed', 1)\n",
      "('I25e55c3320bc72f731512f7e6444ef61acce2a70', 11)\n",
      "('I264c58990dce52ccaa5ed931b54f9c87b069de94', 1)\n",
      "('I2674b6ab1b58a93688a764433cd23f0fe913e972', 4)\n",
      "('I26919475c60e225605d549a322d25ab05728931b', 12)\n",
      "('I26aae898f31e3187368674866f24d91a08824748', 9)\n",
      "('I26cd91e1ebbab91fd13d691368987fe414f25edb', 19)\n",
      "('I26dc2f3f1a14cf59a4b132c53b4738ed4d9919f8', 5)\n",
      "('I2760befdc20e73989bce5cc581d086de57f91383', 2)\n",
      "('I2867e2be539f325778e2f044a151fd0773a7c390', 5)\n",
      "('I28b3583b40dfabd8a975fb4a14ddb382dc3484ab', 7)\n",
      "('I28cd9ef54de4651aa4d19e89520676e090ea9ba0', 4)\n",
      "('I29cd9a2501ab4b7dd226729f33ab962bbba2dfff', 7)\n",
      "('I29cd9a2501ab4b7dd226729f33ab962bbba2dfff', 8)\n",
      "('I2a103930d2a378b267a3cc7320cdd2f37a59a1bb', 1)\n",
      "('I2a2dbcafe88525ec9f82f172a3bbb19fc9d0c1c7', 8)\n",
      "('I2a64a5ec532b216c26bcfd5083332f18b927cf38', 2)\n"
     ]
    },
    {
     "ename": "KeyboardInterrupt",
     "evalue": "",
     "output_type": "error",
     "traceback": [
      "\u001b[0;31m---------------------------------------------------------------------------\u001b[0m",
      "\u001b[0;31mKeyboardInterrupt\u001b[0m                         Traceback (most recent call last)",
      "\u001b[0;32m<ipython-input-12-f82f33342ac5>\u001b[0m in \u001b[0;36m<module>\u001b[0;34m\u001b[0m\n\u001b[1;32m      3\u001b[0m     \u001b[0mfailure\u001b[0m \u001b[0;34m=\u001b[0m \u001b[0;32mFalse\u001b[0m\u001b[0;34m\u001b[0m\u001b[0;34m\u001b[0m\u001b[0m\n\u001b[1;32m      4\u001b[0m \u001b[0;34m\u001b[0m\u001b[0m\n\u001b[0;32m----> 5\u001b[0;31m     \u001b[0;32mif\u001b[0m \u001b[0mchange_id\u001b[0m \u001b[0;32mnot\u001b[0m \u001b[0;32min\u001b[0m \u001b[0mpass_build_recheck_list\u001b[0m\u001b[0;34m:\u001b[0m\u001b[0;34m\u001b[0m\u001b[0;34m\u001b[0m\u001b[0m\n\u001b[0m\u001b[1;32m      6\u001b[0m         \u001b[0;32mcontinue\u001b[0m\u001b[0;34m\u001b[0m\u001b[0;34m\u001b[0m\u001b[0m\n\u001b[1;32m      7\u001b[0m \u001b[0;34m\u001b[0m\u001b[0m\n",
      "\u001b[0;31mKeyboardInterrupt\u001b[0m: "
     ]
    }
   ],
   "source": [
    "for change_id, group in tqdm(df.groupby(['change_id','revision_number'])):\n",
    "    \n",
    "    failure = False\n",
    "    \n",
    "    if change_id not in pass_build_recheck_list:\n",
    "        continue\n",
    "    \n",
    "    \n",
    "    for ind, col in group.iterrows():\n",
    "        if col['is_bot']:\n",
    "            try:\n",
    "                bot = re.findall(r'(failure in(?: \\w+?)*s \\(non\\-voting\\))',col['message'],re.IGNORECASE)\n",
    "                for b in bot:\n",
    "                    failure = True\n",
    "                \n",
    "            except:\n",
    "                pass\n",
    "\n",
    "    if not failure:\n",
    "        print(change_id)\n",
    "    "
   ]
  },
  {
   "cell_type": "code",
   "execution_count": 13,
   "metadata": {
    "ExecuteTime": {
     "end_time": "2023-02-24T16:57:32.896030Z",
     "start_time": "2023-02-24T16:57:18.126020Z"
    }
   },
   "outputs": [
    {
     "data": {
      "application/vnd.jupyter.widget-view+json": {
       "model_id": "0fa3a9030c4a44e28e627a1205db0ece",
       "version_major": 2,
       "version_minor": 0
      },
      "text/plain": [
       "  0%|          | 0/267239 [00:00<?, ?it/s]"
      ]
     },
     "metadata": {},
     "output_type": "display_data"
    },
    {
     "name": "stdout",
     "output_type": "stream",
     "text": [
      "Uploaded patch set 1.\n",
      "Patch Set 1: Verified+1\n",
      "\n",
      "Build succeeded (check pipeline).\n",
      "\n",
      "- noop noop : SUCCESS in 0s\n",
      "- tox-docs http://logs.openstack.org/70/609370/1/check/tox-docs/6c23e8c/html/ : SUCCESS in 2m 30s\n",
      "Patch Set 1: Code-Review+2\n",
      "Patch Set 1: Workflow+1\n",
      "Patch Set 1:\n",
      "\n",
      "recheck\n",
      "Patch Set 1: Verified+2\n",
      "\n",
      "Build succeeded (gate pipeline).\n",
      "\n",
      "- noop noop : SUCCESS in 0s\n",
      "Change has been successfully merged by Zuul\n",
      "Patch Set 1: -Verified\n",
      "\n",
      "Starting gate jobs.\n"
     ]
    }
   ],
   "source": [
    "for change_id, group in tqdm(df.groupby(['change_id','revision_number'])):\n",
    "    \n",
    "    if change_id == ('I0a250cc8a75e622f07ba9931fae0503e1421bc70', 1):\n",
    "        \n",
    "        for ind, col in group.iterrows():\n",
    "            print(col['message'])"
   ]
  },
  {
   "cell_type": "code",
   "execution_count": null,
   "metadata": {},
   "outputs": [],
   "source": []
  }
 ],
 "metadata": {
  "kernelspec": {
   "display_name": "Python 3",
   "language": "python",
   "name": "python3"
  },
  "language_info": {
   "codemirror_mode": {
    "name": "ipython",
    "version": 3
   },
   "file_extension": ".py",
   "mimetype": "text/x-python",
   "name": "python",
   "nbconvert_exporter": "python",
   "pygments_lexer": "ipython3",
   "version": "3.7.1"
  }
 },
 "nbformat": 4,
 "nbformat_minor": 2
}
