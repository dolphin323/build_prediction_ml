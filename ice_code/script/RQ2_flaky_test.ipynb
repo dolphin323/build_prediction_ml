{
 "cells": [
  {
   "cell_type": "code",
   "execution_count": 1,
   "id": "126b1b72",
   "metadata": {
    "ExecuteTime": {
     "end_time": "2023-02-22T17:09:17.886792Z",
     "start_time": "2023-02-22T17:09:00.621130Z"
    }
   },
   "outputs": [
    {
     "name": "stdout",
     "output_type": "stream",
     "text": [
      "id                          int64\n",
      "change_id                  object\n",
      "message_id                 object\n",
      "author                      int64\n",
      "real_author                 int64\n",
      "created_at         datetime64[ns]\n",
      "message                    object\n",
      "revision_number             int64\n",
      "is_bot                       bool\n",
      "username                   object\n",
      "dtype: object\n"
     ]
    }
   ],
   "source": [
    "import pandas as pd\n",
    "import re\n",
    "from tqdm.notebook import tqdm\n",
    "\n",
    "def get_second(time_str):\n",
    "    segment = time_str.split(' ')\n",
    "    second = 0    \n",
    "    for i in segment:\n",
    "        if i[-1] == 's':\n",
    "            second += int(i[:-1])\n",
    "        elif i[-1] == 'm':\n",
    "            second += int(i[:-1]) * 60\n",
    "        elif i[-1] == 'h':\n",
    "            second += int(i[:-1]) * 60 * 60\n",
    "        elif i[-1] == 'd':\n",
    "            second += int(i[:-1]) * 60 * 60 * 24\n",
    "        else:\n",
    "            print(time_str)\n",
    "    return second\n",
    "\n",
    "df = pd.read_csv('../dataset/raw_dataset.csv',parse_dates=['created_at'])\n",
    "df['is_bot'] = df['is_bot'].astype(bool)\n",
    "print(df.dtypes)"
   ]
  },
  {
   "cell_type": "code",
   "execution_count": 2,
   "id": "97f82ce3",
   "metadata": {
    "ExecuteTime": {
     "end_time": "2023-02-22T17:17:01.902668Z",
     "start_time": "2023-02-22T17:09:17.889541Z"
    }
   },
   "outputs": [
    {
     "data": {
      "application/vnd.jupyter.widget-view+json": {
       "model_id": "820fcbb33dc6453e8a69fd969359d450",
       "version_major": 2,
       "version_minor": 0
      },
      "text/plain": [
       "  0%|          | 0/267239 [00:00<?, ?it/s]"
      ]
     },
     "metadata": {},
     "output_type": "display_data"
    }
   ],
   "source": [
    "## Get build status that change after recheck\n",
    "tqdm.pandas()\n",
    "output = dict()\n",
    "CI_bots = dict()\n",
    "df.sort_values(by=['created_at'], inplace=True)\n",
    "build_count = dict()\n",
    "CR = dict()\n",
    "\n",
    "other_builds = dict()\n",
    "other_CI_bots = dict()\n",
    "other_CR = dict()\n",
    "for key, group in tqdm(df.groupby(['change_id','revision_number'])):\n",
    "    \n",
    "    build_dict = dict()\n",
    "    CI_bot = dict()\n",
    "    build_fail, build_fail_then_recheck, recheck = False, False, False\n",
    "    change_id , patchset = key\n",
    "    \n",
    "    for ind,col in group.iterrows():\n",
    "    #start loop if build fail is found\n",
    "        if not build_fail and col['is_bot'] and 'build' in col['message'].lower():\n",
    "            build_fail = True\n",
    "\n",
    "        if col['is_bot']:\n",
    "            try:\n",
    "                patch_fail = False\n",
    "                build = re.findall(r'((?:merge|build) (?:succeeded|failed))',col['message'],re.IGNORECASE)\n",
    "\n",
    "                if any('fail' in b.lower() for b in build): #or any('fail' in b.lower() for b in bot):\n",
    "                    patch_fail = True\n",
    "                elif any('abort' in b.lower() for b in build): #or any('abort' in b.lower() for b in bot):\n",
    "                    patch_fail = True\n",
    "\n",
    "                for message in col['message'].split('\\n'):\n",
    "                    build = re.findall(r'((?:post_failure|success|failure|aborted) in(?: \\w+?)*s)',message,re.IGNORECASE)\n",
    "                    if build:\n",
    "                        build_name = message.split(' ')[1]\n",
    "                        build_status = build[0].split(' in ')[0]\n",
    "                        if build_name not in build_dict:\n",
    "                            build_dict[build_name] = set()\n",
    "\n",
    "                        # only consider failure to success story\n",
    "                        if not recheck and (build_status.lower() == 'aborted' or build_status.lower() == 'failure'):\n",
    "                            build_dict[build_name].add('FAILURE')\n",
    "                    \n",
    "                        if recheck and build_status == 'SUCCESS':\n",
    "                            build_dict[build_name].add('SUCCESS')\n",
    "                            \n",
    "                        if build_name not in CI_bot:\n",
    "                            CI_bot[build_name] = set()\n",
    "                        CI_bot[build_name].add(col['username'])\n",
    "            except:\n",
    "                pass\n",
    "        \n",
    "        if 'recheck' in col['message'].lower() and col['is_bot'] == False:\n",
    "            recheck = True\n",
    "            \n",
    "            if build_fail:\n",
    "                build_fail_then_recheck = True\n",
    "\n",
    "    if build_fail_then_recheck:\n",
    "        for build in build_dict:            \n",
    "            # change to == 1 and see consistant failure build\n",
    "            if len(build_dict[build]) >= 2:\n",
    "                if build not in build_count:\n",
    "                    build_count[build] = 0\n",
    "                build_count[build] += 1\n",
    "                \n",
    "                if build not in CI_bots:\n",
    "                    CI_bots[build] = set()\n",
    "            \n",
    "                for ci in CI_bot[build]:\n",
    "                    CI_bots[build].add(ci)\n",
    "                \n",
    "                if build not in CR:\n",
    "                    CR[build] = set()\n",
    "                \n",
    "                CR[build].add(change_id)"
   ]
  },
  {
   "cell_type": "code",
   "execution_count": 3,
   "id": "e1d8608d",
   "metadata": {
    "ExecuteTime": {
     "end_time": "2023-02-22T17:17:01.935437Z",
     "start_time": "2023-02-22T17:17:01.906575Z"
    }
   },
   "outputs": [],
   "source": [
    "output = list()\n",
    "for key, value in sorted(build_count.items(), key=lambda item: item[1], reverse=True):\n",
    "    if len(CI_bots[key]) > 1:\n",
    "        continue\n",
    "    \n",
    "    output.append((key, value, sorted(CR[key])[0:10], sorted(CI_bots[key])))\n"
   ]
  },
  {
   "cell_type": "code",
   "execution_count": 4,
   "id": "876b4595",
   "metadata": {
    "ExecuteTime": {
     "end_time": "2023-02-22T17:17:01.991343Z",
     "start_time": "2023-02-22T17:17:01.941587Z"
    }
   },
   "outputs": [],
   "source": [
    "# create DataFrame using data\n",
    "df_output = pd.DataFrame(output, columns=['build name', 'Frequency', 'Code review list', 'bot name list'])\n",
    "df_output.to_csv('falky_build.csv', index=False)"
   ]
  }
 ],
 "metadata": {
  "kernelspec": {
   "display_name": "Python 3 (ipykernel)",
   "language": "python",
   "name": "python3"
  },
  "language_info": {
   "codemirror_mode": {
    "name": "ipython",
    "version": 3
   },
   "file_extension": ".py",
   "mimetype": "text/x-python",
   "name": "python",
   "nbconvert_exporter": "python",
   "pygments_lexer": "ipython3",
   "version": "3.10.9"
  }
 },
 "nbformat": 4,
 "nbformat_minor": 5
}
