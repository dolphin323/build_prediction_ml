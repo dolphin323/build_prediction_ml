{
 "cells": [
  {
   "cell_type": "code",
   "execution_count": 1,
   "id": "a5b48575",
   "metadata": {
    "ExecuteTime": {
     "end_time": "2023-02-22T16:43:10.545795Z",
     "start_time": "2023-02-22T16:42:55.441265Z"
    }
   },
   "outputs": [
    {
     "name": "stdout",
     "output_type": "stream",
     "text": [
      "id                          int64\n",
      "change_id                  object\n",
      "message_id                 object\n",
      "author                      int64\n",
      "real_author                 int64\n",
      "created_at         datetime64[ns]\n",
      "message                    object\n",
      "revision_number             int64\n",
      "is_bot                       bool\n",
      "username                   object\n",
      "dtype: object\n"
     ]
    }
   ],
   "source": [
    "import pandas as pd\n",
    "import re\n",
    "from tqdm.notebook import tqdm\n",
    "\n",
    "def get_second(time_str):\n",
    "    segment = time_str.split(' ')\n",
    "    second = 0    \n",
    "    for i in segment:\n",
    "        if i[-1] == 's':\n",
    "            second += int(i[:-1])\n",
    "        elif i[-1] == 'm':\n",
    "            second += int(i[:-1]) * 60\n",
    "        elif i[-1] == 'h':\n",
    "            second += int(i[:-1]) * 60 * 60\n",
    "        elif i[-1] == 'd':\n",
    "            second += int(i[:-1]) * 60 * 60 * 24\n",
    "        else:\n",
    "            print(time_str)\n",
    "    return second\n",
    "\n",
    "df = pd.read_csv('../dataset/raw_dataset.csv',parse_dates=['created_at'])\n",
    "df['is_bot'] = df['is_bot'].astype(bool)\n",
    "print(df.dtypes)"
   ]
  },
  {
   "cell_type": "code",
   "execution_count": 2,
   "id": "6c9b6334",
   "metadata": {
    "ExecuteTime": {
     "end_time": "2023-02-22T16:48:44.583633Z",
     "start_time": "2023-02-22T16:43:10.549522Z"
    }
   },
   "outputs": [
    {
     "data": {
      "application/vnd.jupyter.widget-view+json": {
       "model_id": "cb2ea18c32274097af04a959e3f02d8e",
       "version_major": 2,
       "version_minor": 0
      },
      "text/plain": [
       "  0%|          | 0/267239 [00:00<?, ?it/s]"
      ]
     },
     "metadata": {},
     "output_type": "display_data"
    }
   ],
   "source": [
    "## create boxplot for additional cost\n",
    "\n",
    "# Recheck [waiting time / code review time / computation time / propotion (waiting time in code review time)]\n",
    "# Overall [waiting time / code review time / computation time]\n",
    "\n",
    "tqdm.pandas()\n",
    "output = dict()\n",
    "\n",
    "df.sort_values(by=['created_at'], inplace=True)\n",
    "for key, group in tqdm(df.groupby(['change_id','revision_number'])):\n",
    "    \n",
    "    change_id , revision_number = key\n",
    "    build, recheck, build_then_recheck = False, False, False \n",
    "    final_status = dict()\n",
    "    prev_status = dict()\n",
    "    computation_time = 0\n",
    "    \n",
    "    total_max_time = 0\n",
    "    max_time = 0\n",
    "\n",
    "    dict_bot = {}\n",
    "    rnd = 0\n",
    "    \n",
    "    start_time = ''\n",
    "    end_time = ''\n",
    "\n",
    "    recheck_count = 0\n",
    "    \n",
    "    for ind,col in group.iterrows():\n",
    "        \n",
    "        time = col['created_at']\n",
    "        \n",
    "        if not start_time:\n",
    "            start_time = time\n",
    "            \n",
    "        if not end_time or time > end_time:\n",
    "            end_time = time\n",
    "        \n",
    "        #start loop if build fail is found\n",
    "        if not build and col['is_bot'] and 'build' in col['message'].lower():\n",
    "            build = True\n",
    "            \n",
    "        if not build:\n",
    "            continue\n",
    "                                                \n",
    "        if col['is_bot']:\n",
    "            try:\n",
    "                patch_fail = False\n",
    "                build = re.findall(r'((?:merge|build) (?:succeeded|failed))',col['message'],re.IGNORECASE)\n",
    "                bot = re.findall(r'((?:success|failure|aborted) in(?: \\w+?)*s)',col['message'],re.IGNORECASE)\n",
    "                \n",
    "                if any('fail' in b.lower() for b in build): #or any('fail' in b.lower() for b in bot):\n",
    "                    patch_fail = True\n",
    "                elif any('abort' in b.lower() for b in build): #or any('abort' in b.lower() for b in bot):\n",
    "                    patch_fail = True\n",
    "                \n",
    "                if build and recheck:                \n",
    "                    bot_time = 0\n",
    "                    for i in bot:\n",
    "                        bot_time += get_second(i.split(' in ')[1])\n",
    "                        \n",
    "                        if max_time < get_second(i.split(' in ')[1]):\n",
    "                            max_time = get_second(i.split(' in ')[1])\n",
    "                        \n",
    "                    computation_time += bot_time\n",
    "            except:\n",
    "                pass\n",
    "  \n",
    "            if rnd not in dict_bot:\n",
    "                dict_bot[rnd] = dict()\n",
    "\n",
    "            if col['username'] not in dict_bot[rnd]:\n",
    "                dict_bot[rnd][col['username']] = ''\n",
    "\n",
    "            \n",
    "            if dict_bot[rnd][col['username']] == 'failure':\n",
    "                final_status[col['username']] = 'failure'\n",
    "            else:\n",
    "                \n",
    "                if patch_fail:\n",
    "                    dict_bot[rnd][col['username']] = 'failure'\n",
    "                else:\n",
    "                    dict_bot[rnd][col['username']] = 'success'\n",
    "\n",
    "                final_status[col['username']] = 'failure' if patch_fail else 'success'\n",
    "\n",
    "\n",
    "        \n",
    "        if 'recheck' in col['message'].lower() and col['is_bot'] == False:\n",
    "            recheck = True\n",
    "            rnd += 1\n",
    "            \n",
    "            if len(final_status) > 0:\n",
    "                prev_status = final_status\n",
    "            final_status = dict()\n",
    "            \n",
    "            total_max_time += max_time\n",
    "            max_time = 0\n",
    "            \n",
    "            if build:\n",
    "                build_then_recheck = True\n",
    "            \n",
    "            recheck_count += 1\n",
    "            \n",
    "    total_max_time += max_time\n",
    "    if build_then_recheck:\n",
    "        \n",
    "        status = ''\n",
    "        \n",
    "        if len(final_status) == 0:\n",
    "            final_status = prev_status\n",
    "        \n",
    "        for username in final_status:\n",
    "            if status == 'failure':\n",
    "                continue\n",
    "            if final_status[username] == 'failure':\n",
    "                status = 'failure'\n",
    "            if final_status[username] == '':\n",
    "                status = ''\n",
    "            if final_status[username] == 'success':\n",
    "                status = 'success'\n",
    "        \n",
    "        output[key] = {'computation_time': computation_time,'status': status, 'bot':dict_bot, 'waiting_time':total_max_time, 'code_review_time': (end_time - start_time).total_seconds(), 'recheck_count': recheck_count}\n",
    "        "
   ]
  },
  {
   "cell_type": "code",
   "execution_count": 3,
   "id": "601a4839",
   "metadata": {
    "ExecuteTime": {
     "end_time": "2023-02-22T16:48:44.945318Z",
     "start_time": "2023-02-22T16:48:44.586622Z"
    }
   },
   "outputs": [
    {
     "data": {
      "application/vnd.jupyter.widget-view+json": {
       "model_id": "7adc648a86104acf93749bdf48ecbf36",
       "version_major": 2,
       "version_minor": 0
      },
      "text/plain": [
       "  0%|          | 0/36494 [00:00<?, ?it/s]"
      ]
     },
     "metadata": {},
     "output_type": "display_data"
    },
    {
     "name": "stdout",
     "output_type": "stream",
     "text": [
      "('I9a5b48d58ff9a1ba651468b818cc669e1ca099ff', 3) 118\n",
      "('Ibea13629fafc40ffd9ba64a318dcfd691c88a1dc', 1) 175\n"
     ]
    }
   ],
   "source": [
    "output_tup = list()\n",
    "\n",
    "dropped_case, added_case, replaced_case = 0,0,0\n",
    "same_case_1, dropped_case_1, added_case_1, replaced_case_1 = 0,0,0,0\n",
    "\n",
    "for key in tqdm(output):\n",
    "    \n",
    "#     proportion = round(output[key]['waiting_time'] * 100 / output[key]['code_review_time'] ,2)\n",
    "\n",
    "    computation_time = output[key]['computation_time']\n",
    "    waiting_time = output[key]['waiting_time']\n",
    "    code_review_time = output[key]['code_review_time']\n",
    "    status = output[key]['status']\n",
    "    \n",
    "    bots = output[key]['bot']\n",
    "    first_bot = bots[0]\n",
    "    last_bot = bots[list(bots.keys())[-1]]\n",
    "    \n",
    "    \n",
    "    if len(bots) >= 100:\n",
    "        print(key, len(bots))\n",
    "    \n",
    "    # scenario \n",
    "    \n",
    "    # scenario #1 [Changed outcome] Justifiable\n",
    "    # scenario #2 [Changed outcome] Repeated builds\n",
    "    # scenario #3 [No Change] Single recheck\n",
    "    # scenario #4 [No Change] Multiple recheck\n",
    "\n",
    "    if status == 'success' and len(bots) == 2:\n",
    "        scenario = 1\n",
    "    elif status == 'success' and len(bots) != 2:\n",
    "        scenario = 2\n",
    "    elif status == 'failure' and len(bots) == 2:\n",
    "        scenario = 3\n",
    "    elif status == 'failure' and len(bots) != 2:\n",
    "        scenario = 4\n",
    "    else:\n",
    "        print(\"should not be here\", key)\n",
    "    \n",
    "    bot_modify = 0\n",
    "    \n",
    "    # l_key union f_key\n",
    "    f_u_l = set(first_bot.keys()).union(set(last_bot.keys()))\n",
    "    # cehck if L == F\n",
    "    if set(first_bot.keys()) == set(last_bot.keys()):\n",
    "        bot_modify = 'same bot'\n",
    "    # check if L in F, FuL == F [dropped case]\n",
    "    elif set(first_bot.keys()) == f_u_l:\n",
    "        bot_modify = 'drop bot'\n",
    "    # check if F in L, FuL == L [added case]\n",
    "    elif set(last_bot.keys()) == f_u_l:\n",
    "        bot_modify = 'add bot'\n",
    "    # replace case\n",
    "    else:\n",
    "        bot_modify = 'replace bot'\n",
    "    \n",
    "    output_tup.append((scenario, bot_modify, status, computation_time, waiting_time, code_review_time))\n",
    "recheck_df = pd.DataFrame(output_tup, columns=['scenario', 'bot_modify', 'status', 'computation_time', 'waiting_time', 'code_review_time'])"
   ]
  },
  {
   "cell_type": "code",
   "execution_count": 4,
   "id": "17e2fcab",
   "metadata": {
    "ExecuteTime": {
     "end_time": "2023-02-22T16:48:44.969775Z",
     "start_time": "2023-02-22T16:48:44.952065Z"
    }
   },
   "outputs": [
    {
     "name": "stdout",
     "output_type": "stream",
     "text": [
      "3    11884\n",
      "1     9795\n",
      "4     8282\n",
      "2     6533\n",
      "Name: scenario, dtype: int64\n",
      "3    0.325643\n",
      "1    0.268400\n",
      "4    0.226941\n",
      "2    0.179016\n",
      "Name: scenario, dtype: float64\n"
     ]
    }
   ],
   "source": [
    "# Proportion of Patch Sets with Changed and Unchanged CI Outcomes After Rechecks\n",
    "\n",
    "print(recheck_df['scenario'].value_counts())\n",
    "print(recheck_df['scenario'].value_counts(normalize=True))"
   ]
  }
 ],
 "metadata": {
  "kernelspec": {
   "display_name": "Python 3 (ipykernel)",
   "language": "python",
   "name": "python3"
  },
  "language_info": {
   "codemirror_mode": {
    "name": "ipython",
    "version": 3
   },
   "file_extension": ".py",
   "mimetype": "text/x-python",
   "name": "python",
   "nbconvert_exporter": "python",
   "pygments_lexer": "ipython3",
   "version": "3.10.9"
  }
 },
 "nbformat": 4,
 "nbformat_minor": 5
}
