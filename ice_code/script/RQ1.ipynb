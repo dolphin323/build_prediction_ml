{
 "cells": [
  {
   "cell_type": "code",
   "execution_count": 1,
   "metadata": {
    "ExecuteTime": {
     "end_time": "2023-02-22T20:12:00.784314Z",
     "start_time": "2023-02-22T20:11:38.677079Z"
    }
   },
   "outputs": [
    {
     "name": "stdout",
     "output_type": "stream",
     "text": [
      "             id                                  change_id  \\\n",
      "735913  1104031  I4efe55a84645a30f66f413cd614e5387582577aa   \n",
      "735914  1104032  I4efe55a84645a30f66f413cd614e5387582577aa   \n",
      "293385   661203  I32e56a9b18b5feeb41b583081e95421cf1984522   \n",
      "293386   661204  I32e56a9b18b5feeb41b583081e95421cf1984522   \n",
      "293387   661205  I32e56a9b18b5feeb41b583081e95421cf1984522   \n",
      "\n",
      "                                      message_id  author  real_author  \\\n",
      "735913  fd006a75943b16c9ae1bddc497adb04f5fefd2fa    1782         1782   \n",
      "735914  2611482eaf227257feec82a61631547293d82aa2    1782         1782   \n",
      "293385  a283141cc95dfd068c13845eeb579a6b0bc422ec    1176         1176   \n",
      "293386  050d7f37c0f9f6d87a15e538967729c38a387006    1176         1176   \n",
      "293387  b475141a088f5d838311aca15e4eb50a50ad1f45    1176         1176   \n",
      "\n",
      "                           created_at                message  revision_number  \\\n",
      "735913  2012-08-02 19:09:55.000000000  Uploaded patch set 2.                2   \n",
      "735914  2012-08-02 19:11:14.000000000  Uploaded patch set 3.                3   \n",
      "293385  2012-08-07 13:04:28.000000000  Uploaded patch set 2.                2   \n",
      "293386  2012-09-17 16:18:50.000000000  Uploaded patch set 3.                3   \n",
      "293387  2012-09-19 12:10:44.000000000  Uploaded patch set 4.                4   \n",
      "\n",
      "        is_bot          username  \n",
      "735913   False  kravchenko-pavel  \n",
      "735914   False  kravchenko-pavel  \n",
      "293385   False              jsuh  \n",
      "293386   False              jsuh  \n",
      "293387   False              jsuh  \n"
     ]
    }
   ],
   "source": [
    "import pandas as pd\n",
    "\n",
    "from tqdm.notebook import tqdm\n",
    "df = pd.read_csv('../dataset/raw_dataset.csv')\n",
    "df.sort_values(by=['created_at'], inplace=True)\n",
    "print(df.head())\n",
    "\n",
    "tqdm.pandas()"
   ]
  },
  {
   "cell_type": "code",
   "execution_count": 2,
   "metadata": {
    "ExecuteTime": {
     "end_time": "2023-02-22T20:14:25.272312Z",
     "start_time": "2023-02-22T20:12:00.794514Z"
    }
   },
   "outputs": [
    {
     "data": {
      "application/vnd.jupyter.widget-view+json": {
       "model_id": "4b2fa7d1a0764c619f04107fbde79469",
       "version_major": 2,
       "version_minor": 0
      },
      "text/plain": [
       "  0%|          | 0/66932 [00:00<?, ?it/s]"
      ]
     },
     "metadata": {},
     "output_type": "display_data"
    },
    {
     "name": "stdout",
     "output_type": "stream",
     "text": [
      "Code Reviews # With CI jobs: 65533, Invoked Rechecks: 24293 (37)%\n"
     ]
    }
   ],
   "source": [
    "# table II number of recheck after CI fails\n",
    "# at the code review level\n",
    "\n",
    "# change from build fail to build count\n",
    "\n",
    "total_build = 0\n",
    "total_recheck = 0\n",
    "\n",
    "for change_id, group in tqdm(df.groupby(['change_id'])):\n",
    "    build = False\n",
    "    recheck = False\n",
    "    \n",
    "    for ind, col in group.iterrows():\n",
    "        \n",
    "        if ('build' in col['message'].lower() or 'merge' in col['message'].lower()) and col['is_bot']:\n",
    "            build = True\n",
    "        \n",
    "        if not build:\n",
    "            continue\n",
    "            \n",
    "        if 'recheck' in col['message'].lower() and not col['is_bot']:\n",
    "            recheck = True\n",
    "            \n",
    "    if build:\n",
    "        total_build += 1\n",
    "    \n",
    "    if recheck:\n",
    "        total_recheck += 1\n",
    "        \n",
    "print(f\"Code Reviews # With CI jobs: {total_build}, Invoked Rechecks: {total_recheck} ({round(total_recheck * 100 / total_build)})%\")\n",
    "      "
   ]
  },
  {
   "cell_type": "code",
   "execution_count": 3,
   "metadata": {
    "ExecuteTime": {
     "end_time": "2023-02-22T20:17:18.023754Z",
     "start_time": "2023-02-22T20:14:25.275951Z"
    }
   },
   "outputs": [
    {
     "data": {
      "application/vnd.jupyter.widget-view+json": {
       "model_id": "5642d1d4e2a74a54acb8ed1395b8428e",
       "version_major": 2,
       "version_minor": 0
      },
      "text/plain": [
       "  0%|          | 0/267239 [00:00<?, ?it/s]"
      ]
     },
     "metadata": {},
     "output_type": "display_data"
    },
    {
     "name": "stdout",
     "output_type": "stream",
     "text": [
      "Patch sets # With CI jobs: 267239, Invoked Rechecks: 41376 (15)%\n"
     ]
    }
   ],
   "source": [
    "# table II number of recheck after CI fails at the patch set level\n",
    "\n",
    "# Fig 2 Proportion of patch sets and number of invoked rechecks\n",
    "# count how many recheck after build fail\n",
    "\n",
    "total_build = 0\n",
    "total_recheck = 0\n",
    "\n",
    "recheck_list = []\n",
    "for change_id, group in tqdm(df.groupby(['change_id','revision_number'])):\n",
    "    build_fail = False\n",
    "    recheck_count = 0\n",
    "    \n",
    "    for ind, col in group.iterrows():\n",
    "        \n",
    "        if ('build' in col['message'].lower() or 'merge' in col['message'].lower()) and col['is_bot']:\n",
    "            build = True\n",
    "        \n",
    "        if not build:\n",
    "            continue\n",
    "            \n",
    "        if 'recheck' in col['message'].lower() and not col['is_bot']:\n",
    "            recheck_count += 1\n",
    "            \n",
    "    if build:\n",
    "        total_build += 1\n",
    "    \n",
    "    if recheck_count:\n",
    "        total_recheck += 1\n",
    "        recheck_list.append(recheck_count)\n",
    "        \n",
    "print(f\"Patch sets # With CI jobs: {total_build}, Invoked Rechecks: {total_recheck} ({round(total_recheck * 100 / total_build)})%\")\n",
    "      "
   ]
  },
  {
   "cell_type": "code",
   "execution_count": 6,
   "metadata": {
    "ExecuteTime": {
     "end_time": "2023-02-22T20:38:05.171694Z",
     "start_time": "2023-02-22T20:38:04.843921Z"
    }
   },
   "outputs": [
    {
     "data": {
      "image/png": "[encoded data removed]",
      "text/plain": [
       "<Figure size 432x288 with 1 Axes>"
      ]
     },
     "metadata": {},
     "output_type": "display_data"
    }
   ],
   "source": [
    "from matplotlib import pyplot as plt\n",
    "import seaborn as sns\n",
    "\n",
    "sns.set(font_scale=100)\n",
    "sns.set_theme(style='whitegrid')\n",
    "\n",
    "draw_list = [recheck for recheck in recheck_list if recheck < 25]\n",
    "\n",
    "ax = sns.histplot(data=draw_list, bins=100, discrete=True, element=\"bars\",\n",
    "                 color='mediumturquoise', stat=\"probability\", edgecolor=\"magenta\")\n",
    "\n",
    "ax.set_xlabel('# Invoked rechecks',fontsize=15)\n",
    "ax.set_ylabel('Proportion of patch sets',fontsize=15)\n",
    "\n",
    "fig = ax.get_figure()\n",
    "# fig.savefig('../fig/RQ1_number_recheck.pdf', bbox_inches=\"tight\")"
   ]
  },
  {
   "cell_type": "code",
   "execution_count": 7,
   "metadata": {
    "ExecuteTime": {
     "end_time": "2023-02-22T20:38:05.889037Z",
     "start_time": "2023-02-22T20:38:05.882382Z"
    }
   },
   "outputs": [
    {
     "name": "stdout",
     "output_type": "stream",
     "text": [
      "how many patch set attempts single recheck 60%\n"
     ]
    }
   ],
   "source": [
    "# count how many 1 recheck\n",
    "\n",
    "single_recheck = [recheck for recheck in recheck_list if recheck == 1]\n",
    "\n",
    "print(f\"how many patch set attempts single recheck {round(len(single_recheck) * 100 / len(recheck_list))}%\")"
   ]
  }
 ],
 "metadata": {
  "kernelspec": {
   "display_name": "Python 3 (ipykernel)",
   "language": "python",
   "name": "python3"
  },
  "language_info": {
   "codemirror_mode": {
    "name": "ipython",
    "version": 3
   },
   "file_extension": ".py",
   "mimetype": "text/x-python",
   "name": "python",
   "nbconvert_exporter": "python",
   "pygments_lexer": "ipython3",
   "version": "3.10.9"
  }
 },
 "nbformat": 4,
 "nbformat_minor": 2
}
